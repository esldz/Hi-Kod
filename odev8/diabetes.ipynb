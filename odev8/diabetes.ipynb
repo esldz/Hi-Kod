{
 "cells": [
  {
   "cell_type": "code",
   "execution_count": 2,
   "metadata": {},
   "outputs": [
    {
     "ename": "ModuleNotFoundError",
     "evalue": "No module named 'matplotlib'",
     "output_type": "error",
     "traceback": [
      "\u001b[0;31m---------------------------------------------------------------------------\u001b[0m",
      "\u001b[0;31mModuleNotFoundError\u001b[0m                       Traceback (most recent call last)",
      "Cell \u001b[0;32mIn[2], line 3\u001b[0m\n\u001b[1;32m      1\u001b[0m \u001b[39mimport\u001b[39;00m \u001b[39mpandas\u001b[39;00m \u001b[39mas\u001b[39;00m \u001b[39mpd\u001b[39;00m\n\u001b[1;32m      2\u001b[0m \u001b[39mimport\u001b[39;00m \u001b[39mnumpy\u001b[39;00m \u001b[39mas\u001b[39;00m \u001b[39mnp\u001b[39;00m\n\u001b[0;32m----> 3\u001b[0m \u001b[39mimport\u001b[39;00m \u001b[39mmatplotlib\u001b[39;00m\u001b[39m.\u001b[39;00m\u001b[39mpyplot\u001b[39;00m \u001b[39mas\u001b[39;00m \u001b[39mplt\u001b[39;00m\n\u001b[1;32m      4\u001b[0m \u001b[39mimport\u001b[39;00m \u001b[39msys\u001b[39;00m\n\u001b[1;32m      6\u001b[0m data\u001b[39m=\u001b[39mpd\u001b[39m.\u001b[39mread_csv(\u001b[39m'\u001b[39m\u001b[39mdiabetes.csv\u001b[39m\u001b[39m'\u001b[39m)\n",
      "\u001b[0;31mModuleNotFoundError\u001b[0m: No module named 'matplotlib'"
     ]
    }
   ],
   "source": [
    "import pandas as pd\n",
    "import numpy as np\n",
    "import matplotlib.pyplot as plt\n",
    "import sys\n",
    "\n",
    "data=pd.read_csv('diabetes.csv')"
   ]
  },
  {
   "cell_type": "code",
   "execution_count": null,
   "metadata": {},
   "outputs": [],
   "source": [
    "diabet=data[data.Outcome == 1]\n",
    "diabet_degil=data[data.Outcome == 0]\n",
    "\n",
    "plt.scatter(data[data.Outcome == 0].Age, data[data.Outcome == 0].Glucose, color='green', alpha=0.4, label=\"Diabet değil\")\n",
    "plt.scatter(data[data.Outcome == 1].Age, data[data.Outcome == 1].Glucose, color='red', alpha=0.4, label=\"Diabet\")\n",
    "\n",
    "plt.title('Yaş ve Glucose İlişkisi')\n",
    "plt.xlabel(\"Yaş\")\n",
    "plt.ylabel(\"Glikoz\")\n",
    "plt.legend()\n",
    "plt.grid(True)\n",
    "plt.show()"
   ]
  },
  {
   "cell_type": "code",
   "execution_count": null,
   "metadata": {},
   "outputs": [],
   "source": [
    "plt.scatter(data[data.Outcome == 0].BMI, data[data.Outcome == 0].Glucose, color='green', alpha=0.4, label=\"Diabet değil\")\n",
    "plt.scatter(data[data.Outcome == 1].BMI, data[data.Outcome == 1].Glucose, color='red', alpha=0.4, label=\"Diabet\")\n",
    "\n",
    "plt.xlabel(\"BMI\")\n",
    "plt.ylabel(\"Glikoz\")\n",
    "plt.legend()\n",
    "plt.title('BMI ve Glikoz İlişkisi')\n",
    "plt.grid(True)\n",
    "plt.show()"
   ]
  },
  {
   "cell_type": "code",
   "execution_count": null,
   "metadata": {},
   "outputs": [],
   "source": [
    "plt.scatter(data[data.Outcome == 0].Age, data[data.Outcome == 0].Insulin, color='green', alpha=0.4)\n",
    "plt.scatter(data[data.Outcome == 1].Age, data[data.Outcome == 1].Insulin, color='red', alpha=0.4)\n",
    "plt.xlabel(\"Yaş\")\n",
    "plt.ylabel(\"İnsülin\")\n",
    "plt.title('İnsülin ve Yaş İlişkisi')\n",
    "plt.grid(True)\n",
    "plt.show()"
   ]
  },
  {
   "cell_type": "code",
   "execution_count": null,
   "metadata": {},
   "outputs": [],
   "source": []
  }
 ],
 "metadata": {
  "kernelspec": {
   "display_name": "Python 3 (ipykernel)",
   "language": "python",
   "name": "python3"
  },
  "language_info": {
   "codemirror_mode": {
    "name": "ipython",
    "version": 3
   },
   "file_extension": ".py",
   "mimetype": "text/x-python",
   "name": "python",
   "nbconvert_exporter": "python",
   "pygments_lexer": "ipython3",
   "version": "3.11.4"
  }
 },
 "nbformat": 4,
 "nbformat_minor": 2
}
